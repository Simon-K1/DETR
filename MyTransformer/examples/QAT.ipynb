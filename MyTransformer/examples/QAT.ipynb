{
 "cells": [
  {
   "cell_type": "code",
   "execution_count": null,
   "metadata": {},
   "outputs": [],
   "source": [
    "#训练中量化测试\n",
    "#很奇怪，训练中量化能量化个啥东西出来？\n",
    "import torch\n",
    "from torch.ao.quantization import QConfigMapping#torch1.13才有\n",
    "import torch.quantization.quantize_fx as quantize_fx\n",
    "import copy\n",
    "\n",
    "import sys\n",
    "sys.path.append(\"../\") \n",
    "from Mymodels import Vit\n",
    "\n",
    "\n",
    "# from Mymodels import Test_Net\n"
   ]
  },
  {
   "cell_type": "code",
   "execution_count": null,
   "metadata": {},
   "outputs": [],
   "source": [
    "In_Channels=3\n",
    "Embed_Dim=384\n",
    "Picture_Size=224\n",
    "Patch_Size=16\n",
    "Num_Class=3\n",
    "Num_Heads=6\n",
    "Encoder_Layers=6\n",
    "Onnx_Export_Path='Exported_Fx_Onnx.onnx'\n",
    "model_fp=Vit(In_Channels=In_Channels,Out_Channels=Embed_Dim,Picture_Size=Picture_Size,Patch_Size=Patch_Size\n",
    ",Num_Class=Num_Class,Num_Heads=Num_Heads,Encoder_Layers=Encoder_Layers)"
   ]
  },
  {
   "cell_type": "code",
   "execution_count": 24,
   "metadata": {},
   "outputs": [
    {
     "name": "stderr",
     "output_type": "stream",
     "text": [
      "c:\\Users\\25073\\.conda\\envs\\YoloV5\\lib\\site-packages\\torch\\ao\\quantization\\utils.py:287: UserWarning: must run observer before calling calculate_qparams. Returning default values.\n",
      "  warnings.warn(\n"
     ]
    },
    {
     "ename": "AttributeError",
     "evalue": "'FusedMovingAvgObsFakeQuantize' object has no attribute 'activation_post_process'",
     "output_type": "error",
     "traceback": [
      "\u001b[1;31m---------------------------------------------------------------------------\u001b[0m",
      "\u001b[1;31mAttributeError\u001b[0m                            Traceback (most recent call last)",
      "Cell \u001b[1;32mIn [24], line 10\u001b[0m\n\u001b[0;32m      7\u001b[0m \u001b[39m# training loop (not shown)\u001b[39;00m\n\u001b[0;32m      8\u001b[0m \u001b[39m# quantize\u001b[39;00m\n\u001b[0;32m      9\u001b[0m model_quantized \u001b[39m=\u001b[39m quantize_fx\u001b[39m.\u001b[39mconvert_fx(model_prepared)\n\u001b[1;32m---> 10\u001b[0m \u001b[39mprint\u001b[39;49m(model_quantized)\n\u001b[0;32m     11\u001b[0m model_to_quantize \u001b[39m=\u001b[39m copy\u001b[39m.\u001b[39mdeepcopy(model_fp)\n\u001b[0;32m     12\u001b[0m model_fused \u001b[39m=\u001b[39m quantize_fx\u001b[39m.\u001b[39mfuse_fx(model_to_quantize)\n",
      "File \u001b[1;32mc:\\Users\\25073\\.conda\\envs\\YoloV5\\lib\\site-packages\\torch\\fx\\graph_module.py:733\u001b[0m, in \u001b[0;36mGraphModule.__str__\u001b[1;34m(self)\u001b[0m\n\u001b[0;32m    732\u001b[0m \u001b[39mdef\u001b[39;00m \u001b[39m__str__\u001b[39m(\u001b[39mself\u001b[39m) \u001b[39m-\u001b[39m\u001b[39m>\u001b[39m \u001b[39mstr\u001b[39m:\n\u001b[1;32m--> 733\u001b[0m     orig_str \u001b[39m=\u001b[39m \u001b[39msuper\u001b[39;49m()\u001b[39m.\u001b[39;49m\u001b[39m__str__\u001b[39;49m()\n\u001b[0;32m    734\u001b[0m     print_readable_reminder \u001b[39m=\u001b[39m \u001b[39m\"\u001b[39m\u001b[39m# To see more debug info, please use `graph_module.print_readable()`\u001b[39m\u001b[39m\"\u001b[39m\n\u001b[0;32m    735\u001b[0m     \u001b[39mreturn\u001b[39;00m \u001b[39m'\u001b[39m\u001b[39m\\n\u001b[39;00m\u001b[39m'\u001b[39m\u001b[39m.\u001b[39mjoin([orig_str, \u001b[39mself\u001b[39m\u001b[39m.\u001b[39m_code, print_readable_reminder])\n",
      "File \u001b[1;32mc:\\Users\\25073\\.conda\\envs\\YoloV5\\lib\\site-packages\\torch\\nn\\modules\\module.py:2003\u001b[0m, in \u001b[0;36mModule.__repr__\u001b[1;34m(self)\u001b[0m\n\u001b[0;32m   2001\u001b[0m child_lines \u001b[39m=\u001b[39m []\n\u001b[0;32m   2002\u001b[0m \u001b[39mfor\u001b[39;00m key, module \u001b[39min\u001b[39;00m \u001b[39mself\u001b[39m\u001b[39m.\u001b[39m_modules\u001b[39m.\u001b[39mitems():\n\u001b[1;32m-> 2003\u001b[0m     mod_str \u001b[39m=\u001b[39m \u001b[39mrepr\u001b[39;49m(module)\n\u001b[0;32m   2004\u001b[0m     mod_str \u001b[39m=\u001b[39m _addindent(mod_str, \u001b[39m2\u001b[39m)\n\u001b[0;32m   2005\u001b[0m     child_lines\u001b[39m.\u001b[39mappend(\u001b[39m'\u001b[39m\u001b[39m(\u001b[39m\u001b[39m'\u001b[39m \u001b[39m+\u001b[39m key \u001b[39m+\u001b[39m \u001b[39m'\u001b[39m\u001b[39m): \u001b[39m\u001b[39m'\u001b[39m \u001b[39m+\u001b[39m mod_str)\n",
      "File \u001b[1;32mc:\\Users\\25073\\.conda\\envs\\YoloV5\\lib\\site-packages\\torch\\nn\\modules\\module.py:2003\u001b[0m, in \u001b[0;36mModule.__repr__\u001b[1;34m(self)\u001b[0m\n\u001b[0;32m   2001\u001b[0m child_lines \u001b[39m=\u001b[39m []\n\u001b[0;32m   2002\u001b[0m \u001b[39mfor\u001b[39;00m key, module \u001b[39min\u001b[39;00m \u001b[39mself\u001b[39m\u001b[39m.\u001b[39m_modules\u001b[39m.\u001b[39mitems():\n\u001b[1;32m-> 2003\u001b[0m     mod_str \u001b[39m=\u001b[39m \u001b[39mrepr\u001b[39;49m(module)\n\u001b[0;32m   2004\u001b[0m     mod_str \u001b[39m=\u001b[39m _addindent(mod_str, \u001b[39m2\u001b[39m)\n\u001b[0;32m   2005\u001b[0m     child_lines\u001b[39m.\u001b[39mappend(\u001b[39m'\u001b[39m\u001b[39m(\u001b[39m\u001b[39m'\u001b[39m \u001b[39m+\u001b[39m key \u001b[39m+\u001b[39m \u001b[39m'\u001b[39m\u001b[39m): \u001b[39m\u001b[39m'\u001b[39m \u001b[39m+\u001b[39m mod_str)\n",
      "    \u001b[1;31m[... skipping similar frames: Module.__repr__ at line 2003 (2 times)]\u001b[0m\n",
      "File \u001b[1;32mc:\\Users\\25073\\.conda\\envs\\YoloV5\\lib\\site-packages\\torch\\nn\\modules\\module.py:2003\u001b[0m, in \u001b[0;36mModule.__repr__\u001b[1;34m(self)\u001b[0m\n\u001b[0;32m   2001\u001b[0m child_lines \u001b[39m=\u001b[39m []\n\u001b[0;32m   2002\u001b[0m \u001b[39mfor\u001b[39;00m key, module \u001b[39min\u001b[39;00m \u001b[39mself\u001b[39m\u001b[39m.\u001b[39m_modules\u001b[39m.\u001b[39mitems():\n\u001b[1;32m-> 2003\u001b[0m     mod_str \u001b[39m=\u001b[39m \u001b[39mrepr\u001b[39;49m(module)\n\u001b[0;32m   2004\u001b[0m     mod_str \u001b[39m=\u001b[39m _addindent(mod_str, \u001b[39m2\u001b[39m)\n\u001b[0;32m   2005\u001b[0m     child_lines\u001b[39m.\u001b[39mappend(\u001b[39m'\u001b[39m\u001b[39m(\u001b[39m\u001b[39m'\u001b[39m \u001b[39m+\u001b[39m key \u001b[39m+\u001b[39m \u001b[39m'\u001b[39m\u001b[39m): \u001b[39m\u001b[39m'\u001b[39m \u001b[39m+\u001b[39m mod_str)\n",
      "File \u001b[1;32mc:\\Users\\25073\\.conda\\envs\\YoloV5\\lib\\site-packages\\torch\\nn\\modules\\module.py:1997\u001b[0m, in \u001b[0;36mModule.__repr__\u001b[1;34m(self)\u001b[0m\n\u001b[0;32m   1994\u001b[0m \u001b[39mdef\u001b[39;00m \u001b[39m__repr__\u001b[39m(\u001b[39mself\u001b[39m):\n\u001b[0;32m   1995\u001b[0m     \u001b[39m# We treat the extra repr like the sub-module, one item per line\u001b[39;00m\n\u001b[0;32m   1996\u001b[0m     extra_lines \u001b[39m=\u001b[39m []\n\u001b[1;32m-> 1997\u001b[0m     extra_repr \u001b[39m=\u001b[39m \u001b[39mself\u001b[39;49m\u001b[39m.\u001b[39;49mextra_repr()\n\u001b[0;32m   1998\u001b[0m     \u001b[39m# empty string will be split into list ['']\u001b[39;00m\n\u001b[0;32m   1999\u001b[0m     \u001b[39mif\u001b[39;00m extra_repr:\n",
      "File \u001b[1;32mc:\\Users\\25073\\.conda\\envs\\YoloV5\\lib\\site-packages\\torch\\ao\\quantization\\fake_quantize.py:301\u001b[0m, in \u001b[0;36mFusedMovingAvgObsFakeQuantize.extra_repr\u001b[1;34m(self)\u001b[0m\n\u001b[0;32m    291\u001b[0m \u001b[39m@torch\u001b[39m\u001b[39m.\u001b[39mjit\u001b[39m.\u001b[39mexport\n\u001b[0;32m    292\u001b[0m \u001b[39mdef\u001b[39;00m \u001b[39mextra_repr\u001b[39m(\u001b[39mself\u001b[39m) \u001b[39m-\u001b[39m\u001b[39m>\u001b[39m \u001b[39mstr\u001b[39m:\n\u001b[0;32m    293\u001b[0m     \u001b[39mreturn\u001b[39;00m (\n\u001b[0;32m    294\u001b[0m         \u001b[39m\"\u001b[39m\u001b[39mfake_quant_enabled=\u001b[39m\u001b[39m{}\u001b[39;00m\u001b[39m, observer_enabled=\u001b[39m\u001b[39m{}\u001b[39;00m\u001b[39m, scale=\u001b[39m\u001b[39m{}\u001b[39;00m\u001b[39m, zero_point=\u001b[39m\u001b[39m{}\u001b[39;00m\u001b[39m, \u001b[39m\u001b[39m\"\u001b[39m\n\u001b[0;32m    295\u001b[0m         \u001b[39m\"\u001b[39m\u001b[39mdtype=\u001b[39m\u001b[39m{}\u001b[39;00m\u001b[39m, quant_min=\u001b[39m\u001b[39m{}\u001b[39;00m\u001b[39m, quant_max=\u001b[39m\u001b[39m{}\u001b[39;00m\u001b[39m, qscheme=\u001b[39m\u001b[39m{}\u001b[39;00m\u001b[39m, reduce_range=\u001b[39m\u001b[39m{}\u001b[39;00m\u001b[39m\"\u001b[39m\u001b[39m.\u001b[39mformat(\n\u001b[0;32m    296\u001b[0m             \u001b[39mself\u001b[39m\u001b[39m.\u001b[39mfake_quant_enabled,\n\u001b[0;32m    297\u001b[0m             \u001b[39mself\u001b[39m\u001b[39m.\u001b[39mobserver_enabled,\n\u001b[0;32m    298\u001b[0m             \u001b[39mself\u001b[39m\u001b[39m.\u001b[39mscale,\n\u001b[0;32m    299\u001b[0m             \u001b[39mself\u001b[39m\u001b[39m.\u001b[39mzero_point,\n\u001b[0;32m    300\u001b[0m             \u001b[39mself\u001b[39m\u001b[39m.\u001b[39mdtype,\n\u001b[1;32m--> 301\u001b[0m             \u001b[39mself\u001b[39;49m\u001b[39m.\u001b[39;49mactivation_post_process\u001b[39m.\u001b[39mquant_min,\n\u001b[0;32m    302\u001b[0m             \u001b[39mself\u001b[39m\u001b[39m.\u001b[39mactivation_post_process\u001b[39m.\u001b[39mquant_max,\n\u001b[0;32m    303\u001b[0m             \u001b[39mself\u001b[39m\u001b[39m.\u001b[39mqscheme,\n\u001b[0;32m    304\u001b[0m             \u001b[39mself\u001b[39m\u001b[39m.\u001b[39mactivation_post_process\u001b[39m.\u001b[39mreduce_range,\n\u001b[0;32m    305\u001b[0m         )\n\u001b[0;32m    306\u001b[0m     )\n",
      "File \u001b[1;32mc:\\Users\\25073\\.conda\\envs\\YoloV5\\lib\\site-packages\\torch\\nn\\modules\\module.py:1265\u001b[0m, in \u001b[0;36mModule.__getattr__\u001b[1;34m(self, name)\u001b[0m\n\u001b[0;32m   1263\u001b[0m     \u001b[39mif\u001b[39;00m name \u001b[39min\u001b[39;00m modules:\n\u001b[0;32m   1264\u001b[0m         \u001b[39mreturn\u001b[39;00m modules[name]\n\u001b[1;32m-> 1265\u001b[0m \u001b[39mraise\u001b[39;00m \u001b[39mAttributeError\u001b[39;00m(\u001b[39m\"\u001b[39m\u001b[39m'\u001b[39m\u001b[39m{}\u001b[39;00m\u001b[39m'\u001b[39m\u001b[39m object has no attribute \u001b[39m\u001b[39m'\u001b[39m\u001b[39m{}\u001b[39;00m\u001b[39m'\u001b[39m\u001b[39m\"\u001b[39m\u001b[39m.\u001b[39mformat(\n\u001b[0;32m   1266\u001b[0m     \u001b[39mtype\u001b[39m(\u001b[39mself\u001b[39m)\u001b[39m.\u001b[39m\u001b[39m__name__\u001b[39m, name))\n",
      "\u001b[1;31mAttributeError\u001b[0m: 'FusedMovingAvgObsFakeQuantize' object has no attribute 'activation_post_process'"
     ]
    }
   ],
   "source": [
    "input_fp32=torch.rand(1,In_Channels,Picture_Size,Picture_Size)\n",
    "model_to_quantize = copy.deepcopy(model_fp)\n",
    "qconfig_mapping = QConfigMapping().set_global(torch.quantization.get_default_qat_qconfig('qnnpack'))\n",
    "model_to_quantize.train()\n",
    "# prepare\n",
    "model_prepared = quantize_fx.prepare_qat_fx(model_to_quantize, qconfig_mapping, input_fp32)\n",
    "# training loop (not shown)\n",
    "# quantize\n",
    "model_quantized = quantize_fx.convert_fx(model_prepared)\n",
    "print(model_quantized)\n",
    "model_to_quantize = copy.deepcopy(model_fp)\n",
    "model_fused = quantize_fx.fuse_fx(model_to_quantize)"
   ]
  },
  {
   "cell_type": "code",
   "execution_count": null,
   "metadata": {},
   "outputs": [],
   "source": [
    "#训练\n"
   ]
  },
  {
   "cell_type": "code",
   "execution_count": 22,
   "metadata": {},
   "outputs": [
    {
     "ename": "RuntimeError",
     "evalue": "\nModule 'FusedMovingAvgObsFakeQuantize' has no attribute 'activation_post_process' :\n  File \"c:\\Users\\25073\\.conda\\envs\\YoloV5\\lib\\site-packages\\torch\\ao\\quantization\\fake_quantize.py\", line 289\n    @torch.jit.export\n    def calculate_qparams(self) -> Tuple[torch.Tensor, torch.Tensor]:\n        return self.activation_post_process.calculate_qparams()\n               ~~~~~~~~~~~~~~~~~~~~~~~~~~~~ <--- HERE\n",
     "output_type": "error",
     "traceback": [
      "\u001b[1;31m---------------------------------------------------------------------------\u001b[0m",
      "\u001b[1;31mRuntimeError\u001b[0m                              Traceback (most recent call last)",
      "Cell \u001b[1;32mIn [22], line 1\u001b[0m\n\u001b[1;32m----> 1\u001b[0m torch\u001b[39m.\u001b[39;49monnx\u001b[39m.\u001b[39;49mexport(model_quantized,               \u001b[39m# model being run\u001b[39;49;00m\n\u001b[0;32m      2\u001b[0m                 input_fp32,                         \u001b[39m# model input \u001b[39;49;00m\n\u001b[0;32m      3\u001b[0m                 \u001b[39m'\u001b[39;49m\u001b[39mExportedonnx.onnx\u001b[39;49m\u001b[39m'\u001b[39;49m,   \u001b[39m# where to save the model (can be a file or file-like object)                  \u001b[39;49;00m\n\u001b[0;32m      4\u001b[0m                 opset_version\u001b[39m=\u001b[39;49m\u001b[39m16\u001b[39;49m,           \u001b[39m# the ONNX version to export the model to                  \u001b[39;49;00m\n\u001b[0;32m      5\u001b[0m                 input_names \u001b[39m=\u001b[39;49m [\u001b[39m'\u001b[39;49m\u001b[39minput\u001b[39;49m\u001b[39m'\u001b[39;49m],   \u001b[39m# the model's input names\u001b[39;49;00m\n\u001b[0;32m      6\u001b[0m                 output_names \u001b[39m=\u001b[39;49m [\u001b[39m'\u001b[39;49m\u001b[39moutput\u001b[39;49m\u001b[39m'\u001b[39;49m],  \u001b[39m# the model's output names\u001b[39;49;00m\n\u001b[0;32m      7\u001b[0m                 export_params\u001b[39m=\u001b[39;49m\u001b[39mTrue\u001b[39;49;00m\n\u001b[0;32m      8\u001b[0m                 )\n\u001b[0;32m      9\u001b[0m \u001b[39m#\u001b[39;00m\n\u001b[0;32m     10\u001b[0m \u001b[39m# fusion\u001b[39;00m\n\u001b[0;32m     11\u001b[0m \u001b[39m#\u001b[39;00m\n",
      "File \u001b[1;32mc:\\Users\\25073\\.conda\\envs\\YoloV5\\lib\\site-packages\\torch\\onnx\\utils.py:504\u001b[0m, in \u001b[0;36mexport\u001b[1;34m(model, args, f, export_params, verbose, training, input_names, output_names, operator_export_type, opset_version, do_constant_folding, dynamic_axes, keep_initializers_as_inputs, custom_opsets, export_modules_as_functions)\u001b[0m\n\u001b[0;32m    186\u001b[0m \u001b[39m@_beartype\u001b[39m\u001b[39m.\u001b[39mbeartype\n\u001b[0;32m    187\u001b[0m \u001b[39mdef\u001b[39;00m \u001b[39mexport\u001b[39m(\n\u001b[0;32m    188\u001b[0m     model: Union[torch\u001b[39m.\u001b[39mnn\u001b[39m.\u001b[39mModule, torch\u001b[39m.\u001b[39mjit\u001b[39m.\u001b[39mScriptModule, torch\u001b[39m.\u001b[39mjit\u001b[39m.\u001b[39mScriptFunction],\n\u001b[1;32m   (...)\u001b[0m\n\u001b[0;32m    204\u001b[0m     export_modules_as_functions: Union[\u001b[39mbool\u001b[39m, Collection[Type[torch\u001b[39m.\u001b[39mnn\u001b[39m.\u001b[39mModule]]] \u001b[39m=\u001b[39m \u001b[39mFalse\u001b[39;00m,\n\u001b[0;32m    205\u001b[0m ) \u001b[39m-\u001b[39m\u001b[39m>\u001b[39m \u001b[39mNone\u001b[39;00m:\n\u001b[0;32m    206\u001b[0m     \u001b[39mr\u001b[39m\u001b[39m\"\"\"Exports a model into ONNX format.\u001b[39;00m\n\u001b[0;32m    207\u001b[0m \n\u001b[0;32m    208\u001b[0m \u001b[39m    If ``model`` is not a :class:`torch.jit.ScriptModule` nor a\u001b[39;00m\n\u001b[1;32m   (...)\u001b[0m\n\u001b[0;32m    501\u001b[0m \u001b[39m            All errors are subclasses of :class:`errors.OnnxExporterError`.\u001b[39;00m\n\u001b[0;32m    502\u001b[0m \u001b[39m    \"\"\"\u001b[39;00m\n\u001b[1;32m--> 504\u001b[0m     _export(\n\u001b[0;32m    505\u001b[0m         model,\n\u001b[0;32m    506\u001b[0m         args,\n\u001b[0;32m    507\u001b[0m         f,\n\u001b[0;32m    508\u001b[0m         export_params,\n\u001b[0;32m    509\u001b[0m         verbose,\n\u001b[0;32m    510\u001b[0m         training,\n\u001b[0;32m    511\u001b[0m         input_names,\n\u001b[0;32m    512\u001b[0m         output_names,\n\u001b[0;32m    513\u001b[0m         operator_export_type\u001b[39m=\u001b[39;49moperator_export_type,\n\u001b[0;32m    514\u001b[0m         opset_version\u001b[39m=\u001b[39;49mopset_version,\n\u001b[0;32m    515\u001b[0m         do_constant_folding\u001b[39m=\u001b[39;49mdo_constant_folding,\n\u001b[0;32m    516\u001b[0m         dynamic_axes\u001b[39m=\u001b[39;49mdynamic_axes,\n\u001b[0;32m    517\u001b[0m         keep_initializers_as_inputs\u001b[39m=\u001b[39;49mkeep_initializers_as_inputs,\n\u001b[0;32m    518\u001b[0m         custom_opsets\u001b[39m=\u001b[39;49mcustom_opsets,\n\u001b[0;32m    519\u001b[0m         export_modules_as_functions\u001b[39m=\u001b[39;49mexport_modules_as_functions,\n\u001b[0;32m    520\u001b[0m     )\n",
      "File \u001b[1;32mc:\\Users\\25073\\.conda\\envs\\YoloV5\\lib\\site-packages\\torch\\onnx\\utils.py:1529\u001b[0m, in \u001b[0;36m_export\u001b[1;34m(model, args, f, export_params, verbose, training, input_names, output_names, operator_export_type, export_type, opset_version, do_constant_folding, dynamic_axes, keep_initializers_as_inputs, fixed_batch_size, custom_opsets, add_node_names, onnx_shape_inference, export_modules_as_functions)\u001b[0m\n\u001b[0;32m   1526\u001b[0m     dynamic_axes \u001b[39m=\u001b[39m {}\n\u001b[0;32m   1527\u001b[0m _validate_dynamic_axes(dynamic_axes, model, input_names, output_names)\n\u001b[1;32m-> 1529\u001b[0m graph, params_dict, torch_out \u001b[39m=\u001b[39m _model_to_graph(\n\u001b[0;32m   1530\u001b[0m     model,\n\u001b[0;32m   1531\u001b[0m     args,\n\u001b[0;32m   1532\u001b[0m     verbose,\n\u001b[0;32m   1533\u001b[0m     input_names,\n\u001b[0;32m   1534\u001b[0m     output_names,\n\u001b[0;32m   1535\u001b[0m     operator_export_type,\n\u001b[0;32m   1536\u001b[0m     val_do_constant_folding,\n\u001b[0;32m   1537\u001b[0m     fixed_batch_size\u001b[39m=\u001b[39;49mfixed_batch_size,\n\u001b[0;32m   1538\u001b[0m     training\u001b[39m=\u001b[39;49mtraining,\n\u001b[0;32m   1539\u001b[0m     dynamic_axes\u001b[39m=\u001b[39;49mdynamic_axes,\n\u001b[0;32m   1540\u001b[0m )\n\u001b[0;32m   1542\u001b[0m \u001b[39m# TODO: Don't allocate a in-memory string for the protobuf\u001b[39;00m\n\u001b[0;32m   1543\u001b[0m defer_weight_export \u001b[39m=\u001b[39m (\n\u001b[0;32m   1544\u001b[0m     export_type \u001b[39mis\u001b[39;00m \u001b[39mnot\u001b[39;00m _exporter_states\u001b[39m.\u001b[39mExportTypes\u001b[39m.\u001b[39mPROTOBUF_FILE\n\u001b[0;32m   1545\u001b[0m )\n",
      "File \u001b[1;32mc:\\Users\\25073\\.conda\\envs\\YoloV5\\lib\\site-packages\\torch\\onnx\\utils.py:1110\u001b[0m, in \u001b[0;36m_model_to_graph\u001b[1;34m(model, args, verbose, input_names, output_names, operator_export_type, do_constant_folding, _disable_torch_constant_prop, fixed_batch_size, training, dynamic_axes)\u001b[0m\n\u001b[0;32m   1107\u001b[0m \u001b[39mif\u001b[39;00m \u001b[39misinstance\u001b[39m(args, (torch\u001b[39m.\u001b[39mTensor, \u001b[39mint\u001b[39m, \u001b[39mfloat\u001b[39m, \u001b[39mbool\u001b[39m)):\n\u001b[0;32m   1108\u001b[0m     args \u001b[39m=\u001b[39m (args,)\n\u001b[1;32m-> 1110\u001b[0m model \u001b[39m=\u001b[39m _pre_trace_quant_model(model, args)\n\u001b[0;32m   1111\u001b[0m graph, params, torch_out, module \u001b[39m=\u001b[39m _create_jit_graph(model, args)\n\u001b[0;32m   1112\u001b[0m params_dict \u001b[39m=\u001b[39m _get_named_param_dict(graph, params)\n",
      "File \u001b[1;32mc:\\Users\\25073\\.conda\\envs\\YoloV5\\lib\\site-packages\\torch\\onnx\\utils.py:1065\u001b[0m, in \u001b[0;36m_pre_trace_quant_model\u001b[1;34m(model, args)\u001b[0m\n\u001b[0;32m   1057\u001b[0m \u001b[39mr\u001b[39m\u001b[39m\"\"\"Returns `torch.jit.trace(model, args)` if model is quantized. Otherwise do nothing and return\u001b[39;00m\n\u001b[0;32m   1058\u001b[0m \u001b[39moriginal model.\u001b[39;00m\n\u001b[0;32m   1059\u001b[0m \n\u001b[0;32m   1060\u001b[0m \u001b[39mThis is due to https://github.com/pytorch/pytorch/issues/75761.\u001b[39;00m\n\u001b[0;32m   1061\u001b[0m \u001b[39m\"\"\"\u001b[39;00m\n\u001b[0;32m   1062\u001b[0m \u001b[39mif\u001b[39;00m \u001b[39many\u001b[39m(\n\u001b[0;32m   1063\u001b[0m     \u001b[39mhasattr\u001b[39m(m, \u001b[39m\"\u001b[39m\u001b[39m_packed_params\u001b[39m\u001b[39m\"\u001b[39m) \u001b[39mfor\u001b[39;00m m \u001b[39min\u001b[39;00m \u001b[39mgetattr\u001b[39m(model, \u001b[39m\"\u001b[39m\u001b[39mmodules\u001b[39m\u001b[39m\"\u001b[39m, \u001b[39mlambda\u001b[39;00m: [])()\n\u001b[0;32m   1064\u001b[0m ) \u001b[39mor\u001b[39;00m \u001b[39many\u001b[39m(\u001b[39mgetattr\u001b[39m(arg, \u001b[39m\"\u001b[39m\u001b[39mis_quantized\u001b[39m\u001b[39m\"\u001b[39m, \u001b[39mFalse\u001b[39;00m) \u001b[39mfor\u001b[39;00m arg \u001b[39min\u001b[39;00m args):\n\u001b[1;32m-> 1065\u001b[0m     \u001b[39mreturn\u001b[39;00m torch\u001b[39m.\u001b[39;49mjit\u001b[39m.\u001b[39;49mtrace(model, args)\n\u001b[0;32m   1066\u001b[0m \u001b[39mreturn\u001b[39;00m model\n",
      "File \u001b[1;32mc:\\Users\\25073\\.conda\\envs\\YoloV5\\lib\\site-packages\\torch\\jit\\_trace.py:759\u001b[0m, in \u001b[0;36mtrace\u001b[1;34m(func, example_inputs, optimize, check_trace, check_inputs, check_tolerance, strict, _force_outplace, _module_class, _compilation_unit)\u001b[0m\n\u001b[0;32m    756\u001b[0m     \u001b[39mreturn\u001b[39;00m func\n\u001b[0;32m    758\u001b[0m \u001b[39mif\u001b[39;00m \u001b[39misinstance\u001b[39m(func, torch\u001b[39m.\u001b[39mnn\u001b[39m.\u001b[39mModule):\n\u001b[1;32m--> 759\u001b[0m     \u001b[39mreturn\u001b[39;00m trace_module(\n\u001b[0;32m    760\u001b[0m         func,\n\u001b[0;32m    761\u001b[0m         {\u001b[39m\"\u001b[39;49m\u001b[39mforward\u001b[39;49m\u001b[39m\"\u001b[39;49m: example_inputs},\n\u001b[0;32m    762\u001b[0m         \u001b[39mNone\u001b[39;49;00m,\n\u001b[0;32m    763\u001b[0m         check_trace,\n\u001b[0;32m    764\u001b[0m         wrap_check_inputs(check_inputs),\n\u001b[0;32m    765\u001b[0m         check_tolerance,\n\u001b[0;32m    766\u001b[0m         strict,\n\u001b[0;32m    767\u001b[0m         _force_outplace,\n\u001b[0;32m    768\u001b[0m         _module_class,\n\u001b[0;32m    769\u001b[0m     )\n\u001b[0;32m    771\u001b[0m \u001b[39mif\u001b[39;00m (\n\u001b[0;32m    772\u001b[0m     \u001b[39mhasattr\u001b[39m(func, \u001b[39m\"\u001b[39m\u001b[39m__self__\u001b[39m\u001b[39m\"\u001b[39m)\n\u001b[0;32m    773\u001b[0m     \u001b[39mand\u001b[39;00m \u001b[39misinstance\u001b[39m(func\u001b[39m.\u001b[39m\u001b[39m__self__\u001b[39m, torch\u001b[39m.\u001b[39mnn\u001b[39m.\u001b[39mModule)\n\u001b[0;32m    774\u001b[0m     \u001b[39mand\u001b[39;00m func\u001b[39m.\u001b[39m\u001b[39m__name__\u001b[39m \u001b[39m==\u001b[39m \u001b[39m\"\u001b[39m\u001b[39mforward\u001b[39m\u001b[39m\"\u001b[39m\n\u001b[0;32m    775\u001b[0m ):\n\u001b[0;32m    776\u001b[0m     \u001b[39mreturn\u001b[39;00m trace_module(\n\u001b[0;32m    777\u001b[0m         func\u001b[39m.\u001b[39m\u001b[39m__self__\u001b[39m,\n\u001b[0;32m    778\u001b[0m         {\u001b[39m\"\u001b[39m\u001b[39mforward\u001b[39m\u001b[39m\"\u001b[39m: example_inputs},\n\u001b[1;32m   (...)\u001b[0m\n\u001b[0;32m    785\u001b[0m         _module_class,\n\u001b[0;32m    786\u001b[0m     )\n",
      "File \u001b[1;32mc:\\Users\\25073\\.conda\\envs\\YoloV5\\lib\\site-packages\\torch\\jit\\_trace.py:960\u001b[0m, in \u001b[0;36mtrace_module\u001b[1;34m(mod, inputs, optimize, check_trace, check_inputs, check_tolerance, strict, _force_outplace, _module_class, _compilation_unit)\u001b[0m\n\u001b[0;32m    957\u001b[0m torch\u001b[39m.\u001b[39mjit\u001b[39m.\u001b[39m_trace\u001b[39m.\u001b[39m_trace_module_map \u001b[39m=\u001b[39m trace_module_map\n\u001b[0;32m    958\u001b[0m register_submods(mod, \u001b[39m\"\u001b[39m\u001b[39m__module\u001b[39m\u001b[39m\"\u001b[39m)\n\u001b[1;32m--> 960\u001b[0m module \u001b[39m=\u001b[39m make_module(mod, _module_class, _compilation_unit)\n\u001b[0;32m    962\u001b[0m \u001b[39mfor\u001b[39;00m method_name, example_inputs \u001b[39min\u001b[39;00m inputs\u001b[39m.\u001b[39mitems():\n\u001b[0;32m    963\u001b[0m     \u001b[39mif\u001b[39;00m method_name \u001b[39m==\u001b[39m \u001b[39m\"\u001b[39m\u001b[39mforward\u001b[39m\u001b[39m\"\u001b[39m:\n\u001b[0;32m    964\u001b[0m         \u001b[39m# \"forward\" is a special case because we need to trace\u001b[39;00m\n\u001b[0;32m    965\u001b[0m         \u001b[39m# `Module.__call__`, which sets up some extra tracing, but uses\u001b[39;00m\n\u001b[0;32m    966\u001b[0m         \u001b[39m# argument names of the real `Module.forward` method.\u001b[39;00m\n",
      "File \u001b[1;32mc:\\Users\\25073\\.conda\\envs\\YoloV5\\lib\\site-packages\\torch\\jit\\_trace.py:586\u001b[0m, in \u001b[0;36mmake_module\u001b[1;34m(mod, _module_class, _compilation_unit)\u001b[0m\n\u001b[0;32m    584\u001b[0m \u001b[39mif\u001b[39;00m _module_class \u001b[39mis\u001b[39;00m \u001b[39mNone\u001b[39;00m:\n\u001b[0;32m    585\u001b[0m     _module_class \u001b[39m=\u001b[39m TopLevelTracedModule\n\u001b[1;32m--> 586\u001b[0m \u001b[39mreturn\u001b[39;00m _module_class(mod, _compilation_unit\u001b[39m=\u001b[39;49m_compilation_unit)\n",
      "File \u001b[1;32mc:\\Users\\25073\\.conda\\envs\\YoloV5\\lib\\site-packages\\torch\\jit\\_trace.py:1085\u001b[0m, in \u001b[0;36mTracedModule.__init__\u001b[1;34m(self, orig, id_set, _compilation_unit)\u001b[0m\n\u001b[0;32m   1083\u001b[0m     \u001b[39mif\u001b[39;00m submodule \u001b[39mis\u001b[39;00m \u001b[39mNone\u001b[39;00m:\n\u001b[0;32m   1084\u001b[0m         \u001b[39mcontinue\u001b[39;00m\n\u001b[1;32m-> 1085\u001b[0m     tmp_module\u001b[39m.\u001b[39m_modules[name] \u001b[39m=\u001b[39m make_module(\n\u001b[0;32m   1086\u001b[0m         submodule, TracedModule, _compilation_unit\u001b[39m=\u001b[39;49m\u001b[39mNone\u001b[39;49;00m\n\u001b[0;32m   1087\u001b[0m     )\n\u001b[0;32m   1089\u001b[0m script_module \u001b[39m=\u001b[39m torch\u001b[39m.\u001b[39mjit\u001b[39m.\u001b[39m_recursive\u001b[39m.\u001b[39mcreate_script_module(\n\u001b[0;32m   1090\u001b[0m     tmp_module, \u001b[39mlambda\u001b[39;00m module: (), share_types\u001b[39m=\u001b[39m\u001b[39mFalse\u001b[39;00m, is_tracing\u001b[39m=\u001b[39m\u001b[39mTrue\u001b[39;00m\n\u001b[0;32m   1091\u001b[0m )\n\u001b[0;32m   1093\u001b[0m \u001b[39mself\u001b[39m\u001b[39m.\u001b[39m\u001b[39m__dict__\u001b[39m[\u001b[39m\"\u001b[39m\u001b[39m_name\u001b[39m\u001b[39m\"\u001b[39m] \u001b[39m=\u001b[39m \u001b[39mtype\u001b[39m(orig)\u001b[39m.\u001b[39m\u001b[39m__name__\u001b[39m\n",
      "File \u001b[1;32mc:\\Users\\25073\\.conda\\envs\\YoloV5\\lib\\site-packages\\torch\\jit\\_trace.py:586\u001b[0m, in \u001b[0;36mmake_module\u001b[1;34m(mod, _module_class, _compilation_unit)\u001b[0m\n\u001b[0;32m    584\u001b[0m \u001b[39mif\u001b[39;00m _module_class \u001b[39mis\u001b[39;00m \u001b[39mNone\u001b[39;00m:\n\u001b[0;32m    585\u001b[0m     _module_class \u001b[39m=\u001b[39m TopLevelTracedModule\n\u001b[1;32m--> 586\u001b[0m \u001b[39mreturn\u001b[39;00m _module_class(mod, _compilation_unit\u001b[39m=\u001b[39;49m_compilation_unit)\n",
      "File \u001b[1;32mc:\\Users\\25073\\.conda\\envs\\YoloV5\\lib\\site-packages\\torch\\jit\\_trace.py:1085\u001b[0m, in \u001b[0;36mTracedModule.__init__\u001b[1;34m(self, orig, id_set, _compilation_unit)\u001b[0m\n\u001b[0;32m   1083\u001b[0m     \u001b[39mif\u001b[39;00m submodule \u001b[39mis\u001b[39;00m \u001b[39mNone\u001b[39;00m:\n\u001b[0;32m   1084\u001b[0m         \u001b[39mcontinue\u001b[39;00m\n\u001b[1;32m-> 1085\u001b[0m     tmp_module\u001b[39m.\u001b[39m_modules[name] \u001b[39m=\u001b[39m make_module(\n\u001b[0;32m   1086\u001b[0m         submodule, TracedModule, _compilation_unit\u001b[39m=\u001b[39;49m\u001b[39mNone\u001b[39;49;00m\n\u001b[0;32m   1087\u001b[0m     )\n\u001b[0;32m   1089\u001b[0m script_module \u001b[39m=\u001b[39m torch\u001b[39m.\u001b[39mjit\u001b[39m.\u001b[39m_recursive\u001b[39m.\u001b[39mcreate_script_module(\n\u001b[0;32m   1090\u001b[0m     tmp_module, \u001b[39mlambda\u001b[39;00m module: (), share_types\u001b[39m=\u001b[39m\u001b[39mFalse\u001b[39;00m, is_tracing\u001b[39m=\u001b[39m\u001b[39mTrue\u001b[39;00m\n\u001b[0;32m   1091\u001b[0m )\n\u001b[0;32m   1093\u001b[0m \u001b[39mself\u001b[39m\u001b[39m.\u001b[39m\u001b[39m__dict__\u001b[39m[\u001b[39m\"\u001b[39m\u001b[39m_name\u001b[39m\u001b[39m\"\u001b[39m] \u001b[39m=\u001b[39m \u001b[39mtype\u001b[39m(orig)\u001b[39m.\u001b[39m\u001b[39m__name__\u001b[39m\n",
      "    \u001b[1;31m[... skipping similar frames: TracedModule.__init__ at line 1085 (2 times), make_module at line 586 (2 times)]\u001b[0m\n",
      "File \u001b[1;32mc:\\Users\\25073\\.conda\\envs\\YoloV5\\lib\\site-packages\\torch\\jit\\_trace.py:586\u001b[0m, in \u001b[0;36mmake_module\u001b[1;34m(mod, _module_class, _compilation_unit)\u001b[0m\n\u001b[0;32m    584\u001b[0m \u001b[39mif\u001b[39;00m _module_class \u001b[39mis\u001b[39;00m \u001b[39mNone\u001b[39;00m:\n\u001b[0;32m    585\u001b[0m     _module_class \u001b[39m=\u001b[39m TopLevelTracedModule\n\u001b[1;32m--> 586\u001b[0m \u001b[39mreturn\u001b[39;00m _module_class(mod, _compilation_unit\u001b[39m=\u001b[39;49m_compilation_unit)\n",
      "File \u001b[1;32mc:\\Users\\25073\\.conda\\envs\\YoloV5\\lib\\site-packages\\torch\\jit\\_trace.py:1085\u001b[0m, in \u001b[0;36mTracedModule.__init__\u001b[1;34m(self, orig, id_set, _compilation_unit)\u001b[0m\n\u001b[0;32m   1083\u001b[0m     \u001b[39mif\u001b[39;00m submodule \u001b[39mis\u001b[39;00m \u001b[39mNone\u001b[39;00m:\n\u001b[0;32m   1084\u001b[0m         \u001b[39mcontinue\u001b[39;00m\n\u001b[1;32m-> 1085\u001b[0m     tmp_module\u001b[39m.\u001b[39m_modules[name] \u001b[39m=\u001b[39m make_module(\n\u001b[0;32m   1086\u001b[0m         submodule, TracedModule, _compilation_unit\u001b[39m=\u001b[39;49m\u001b[39mNone\u001b[39;49;00m\n\u001b[0;32m   1087\u001b[0m     )\n\u001b[0;32m   1089\u001b[0m script_module \u001b[39m=\u001b[39m torch\u001b[39m.\u001b[39mjit\u001b[39m.\u001b[39m_recursive\u001b[39m.\u001b[39mcreate_script_module(\n\u001b[0;32m   1090\u001b[0m     tmp_module, \u001b[39mlambda\u001b[39;00m module: (), share_types\u001b[39m=\u001b[39m\u001b[39mFalse\u001b[39;00m, is_tracing\u001b[39m=\u001b[39m\u001b[39mTrue\u001b[39;00m\n\u001b[0;32m   1091\u001b[0m )\n\u001b[0;32m   1093\u001b[0m \u001b[39mself\u001b[39m\u001b[39m.\u001b[39m\u001b[39m__dict__\u001b[39m[\u001b[39m\"\u001b[39m\u001b[39m_name\u001b[39m\u001b[39m\"\u001b[39m] \u001b[39m=\u001b[39m \u001b[39mtype\u001b[39m(orig)\u001b[39m.\u001b[39m\u001b[39m__name__\u001b[39m\n",
      "File \u001b[1;32mc:\\Users\\25073\\.conda\\envs\\YoloV5\\lib\\site-packages\\torch\\jit\\_trace.py:577\u001b[0m, in \u001b[0;36mmake_module\u001b[1;34m(mod, _module_class, _compilation_unit)\u001b[0m\n\u001b[0;32m    574\u001b[0m \u001b[39melif\u001b[39;00m torch\u001b[39m.\u001b[39m_jit_internal\u001b[39m.\u001b[39mmodule_has_exports(mod):\n\u001b[0;32m    576\u001b[0m     infer_methods_stubs_fn \u001b[39m=\u001b[39m torch\u001b[39m.\u001b[39mjit\u001b[39m.\u001b[39m_recursive\u001b[39m.\u001b[39mmake_stubs_from_exported_methods\n\u001b[1;32m--> 577\u001b[0m     \u001b[39mreturn\u001b[39;00m torch\u001b[39m.\u001b[39;49mjit\u001b[39m.\u001b[39;49m_recursive\u001b[39m.\u001b[39;49mcreate_script_module(\n\u001b[0;32m    578\u001b[0m         mod,\n\u001b[0;32m    579\u001b[0m         infer_methods_stubs_fn,\n\u001b[0;32m    580\u001b[0m         share_types\u001b[39m=\u001b[39;49m\u001b[39mFalse\u001b[39;49;00m,\n\u001b[0;32m    581\u001b[0m         is_tracing\u001b[39m=\u001b[39;49m\u001b[39mTrue\u001b[39;49;00m\n\u001b[0;32m    582\u001b[0m     )\n\u001b[0;32m    583\u001b[0m \u001b[39melse\u001b[39;00m:\n\u001b[0;32m    584\u001b[0m     \u001b[39mif\u001b[39;00m _module_class \u001b[39mis\u001b[39;00m \u001b[39mNone\u001b[39;00m:\n",
      "File \u001b[1;32mc:\\Users\\25073\\.conda\\envs\\YoloV5\\lib\\site-packages\\torch\\jit\\_recursive.py:476\u001b[0m, in \u001b[0;36mcreate_script_module\u001b[1;34m(nn_module, stubs_fn, share_types, is_tracing)\u001b[0m\n\u001b[0;32m    474\u001b[0m \u001b[39mif\u001b[39;00m \u001b[39mnot\u001b[39;00m is_tracing:\n\u001b[0;32m    475\u001b[0m     AttributeTypeIsSupportedChecker()\u001b[39m.\u001b[39mcheck(nn_module)\n\u001b[1;32m--> 476\u001b[0m \u001b[39mreturn\u001b[39;00m create_script_module_impl(nn_module, concrete_type, stubs_fn)\n",
      "File \u001b[1;32mc:\\Users\\25073\\.conda\\envs\\YoloV5\\lib\\site-packages\\torch\\jit\\_recursive.py:542\u001b[0m, in \u001b[0;36mcreate_script_module_impl\u001b[1;34m(nn_module, concrete_type, stubs_fn)\u001b[0m\n\u001b[0;32m    540\u001b[0m \u001b[39m# Compile methods if necessary\u001b[39;00m\n\u001b[0;32m    541\u001b[0m \u001b[39mif\u001b[39;00m concrete_type \u001b[39mnot\u001b[39;00m \u001b[39min\u001b[39;00m concrete_type_store\u001b[39m.\u001b[39mmethods_compiled:\n\u001b[1;32m--> 542\u001b[0m     create_methods_and_properties_from_stubs(concrete_type, method_stubs, property_stubs)\n\u001b[0;32m    543\u001b[0m     \u001b[39m# Create hooks after methods to ensure no name collisions between hooks and methods.\u001b[39;00m\n\u001b[0;32m    544\u001b[0m     \u001b[39m# If done before, hooks can overshadow methods that aren't exported.\u001b[39;00m\n\u001b[0;32m    545\u001b[0m     create_hooks_from_stubs(concrete_type, hook_stubs, pre_hook_stubs)\n",
      "File \u001b[1;32mc:\\Users\\25073\\.conda\\envs\\YoloV5\\lib\\site-packages\\torch\\jit\\_recursive.py:393\u001b[0m, in \u001b[0;36mcreate_methods_and_properties_from_stubs\u001b[1;34m(concrete_type, method_stubs, property_stubs)\u001b[0m\n\u001b[0;32m    390\u001b[0m property_defs \u001b[39m=\u001b[39m [p\u001b[39m.\u001b[39mdef_ \u001b[39mfor\u001b[39;00m p \u001b[39min\u001b[39;00m property_stubs]\n\u001b[0;32m    391\u001b[0m property_rcbs \u001b[39m=\u001b[39m [p\u001b[39m.\u001b[39mresolution_callback \u001b[39mfor\u001b[39;00m p \u001b[39min\u001b[39;00m property_stubs]\n\u001b[1;32m--> 393\u001b[0m concrete_type\u001b[39m.\u001b[39;49m_create_methods_and_properties(property_defs, property_rcbs, method_defs, method_rcbs, method_defaults)\n",
      "\u001b[1;31mRuntimeError\u001b[0m: \nModule 'FusedMovingAvgObsFakeQuantize' has no attribute 'activation_post_process' :\n  File \"c:\\Users\\25073\\.conda\\envs\\YoloV5\\lib\\site-packages\\torch\\ao\\quantization\\fake_quantize.py\", line 289\n    @torch.jit.export\n    def calculate_qparams(self) -> Tuple[torch.Tensor, torch.Tensor]:\n        return self.activation_post_process.calculate_qparams()\n               ~~~~~~~~~~~~~~~~~~~~~~~~~~~~ <--- HERE\n"
     ]
    }
   ],
   "source": [
    "torch.onnx.export(model_quantized,               # model being run\n",
    "                input_fp32,                         # model input \n",
    "                'Exportedonnx.onnx',   # where to save the model (can be a file or file-like object)                  \n",
    "                opset_version=16,           # the ONNX version to export the model to                  \n",
    "                input_names = ['input'],   # the model's input names\n",
    "                output_names = ['output'],  # the model's output names\n",
    "                export_params=True\n",
    "                )\n",
    "#\n",
    "# fusion\n",
    "#\n"
   ]
  },
  {
   "cell_type": "code",
   "execution_count": null,
   "metadata": {},
   "outputs": [],
   "source": [
    "a=100\n",
    "export_path='Exported_Onnx'+str(a)+'.onnx'\n",
    "export_path"
   ]
  }
 ],
 "metadata": {
  "kernelspec": {
   "display_name": "YoloV5",
   "language": "python",
   "name": "python3"
  },
  "language_info": {
   "codemirror_mode": {
    "name": "ipython",
    "version": 3
   },
   "file_extension": ".py",
   "mimetype": "text/x-python",
   "name": "python",
   "nbconvert_exporter": "python",
   "pygments_lexer": "ipython3",
   "version": "3.9.13 (main, Oct 13 2022, 21:23:06) [MSC v.1916 64 bit (AMD64)]"
  },
  "orig_nbformat": 4,
  "vscode": {
   "interpreter": {
    "hash": "278897701cc6d4f1b9746803770f5e818cccf5e556f859a8255d5456d962739d"
   }
  }
 },
 "nbformat": 4,
 "nbformat_minor": 2
}
