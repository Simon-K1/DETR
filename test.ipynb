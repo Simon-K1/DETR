{
 "cells": [
  {
   "cell_type": "code",
   "execution_count": null,
   "metadata": {},
   "outputs": [],
   "source": [
    "import torch\n",
    "a=torch.tensor(11)\n",
    "a.shape"
   ]
  },
  {
   "cell_type": "code",
   "execution_count": null,
   "metadata": {},
   "outputs": [],
   "source": [
    "weight=torch.ones(16,768,16,16)\n",
    "weight*torch.tensor(12)"
   ]
  },
  {
   "cell_type": "code",
   "execution_count": null,
   "metadata": {},
   "outputs": [],
   "source": [
    "import torch\n",
    "Wq=torch.randint(0,255,(64,32,3,3))\n",
    "# with open ('TxT//ConvWeight.txt','a') as ff:\n",
    "#     #Wq的维度：[OC,IC,K,K]\n",
    "#     for OC in range(Wq.shape[0]):#遍历全部输出通道\n",
    "#         for K_Row in range(Wq.shape[2]):#遍历行\n",
    "#             for K_Col in range(Wq.shape[3]):#遍历列\n",
    "#                 for IC in range(0,Wq.shape[1],8):#遍历通道\n",
    "#                     ff.write('%02x'%(int(Wq[OC,IC:IC+7,K_Row,K_Col].item())&0xff))\n",
    "#                     ff.write(\"\\n\")\n",
    "#     ff.close()\n",
    "for OC in range(Wq.shape[0]):#遍历全部输出通道\n",
    "    for K_Row in range(Wq.shape[2]):#遍历行\n",
    "        for K_Col in range(Wq.shape[3]):#遍历列\n",
    "            for IC in range(0,Wq.shape[1],8):#遍历通道\n",
    "                # print(list(Wq[OC,IC:IC+2,K_Row,K_Col]))\n",
    "                Hex0=Wq[OC,IC,K_Row,K_Col].item()&0xff\n",
    "                Hex1=Wq[OC,IC+1,K_Row,K_Col].item()&0xff\n",
    "                Hex2=Wq[OC,IC+2,K_Row,K_Col].item()&0xff\n",
    "                Hex3=Wq[OC,IC+3,K_Row,K_Col].item()&0xff\n",
    "                Hex4=Wq[OC,IC+4,K_Row,K_Col].item()&0xff\n",
    "                Hex5=Wq[OC,IC+5,K_Row,K_Col].item()&0xff\n",
    "                Hex6=Wq[OC,IC+6,K_Row,K_Col].item()&0xff\n",
    "                Hex7=Wq[OC,IC+7,K_Row,K_Col].item()&0xff\n",
    "                print('%02x%02x%02x%02x%02x%02x%02x%02x'%(Hex7,Hex6,Hex5,Hex4,Hex3,Hex2,Hex1,Hex0))\n",
    "                # ff.write(\"\\n\")    "
   ]
  },
  {
   "cell_type": "code",
   "execution_count": null,
   "metadata": {},
   "outputs": [],
   "source": [
    "import os\n",
    "filename = r'E:\\Transformer\\Transformer_Arithmatic\\Transformer_Main\\TxT\\Weight.txt'\n",
    "\n",
    "# 判断文件是否存在不存在则创建一个\n",
    "if not os.path.isfile(filename):\n",
    "     fd = open(filename, mode=\"w\", encoding=\"utf-8\")\n"
   ]
  },
  {
   "cell_type": "code",
   "execution_count": null,
   "metadata": {},
   "outputs": [],
   "source": [
    "import torch.nn as nn\n",
    "picture_in=torch.rand(1,3,224,224)\n",
    "\n",
    "nn.conv(picture_in)"
   ]
  },
  {
   "cell_type": "code",
   "execution_count": 3,
   "metadata": {},
   "outputs": [
    {
     "name": "stdout",
     "output_type": "stream",
     "text": [
      "0\n",
      "1\n",
      "2\n",
      "3\n",
      "4\n",
      "5\n",
      "6\n",
      "7\n",
      "8\n",
      "9\n",
      "10\n",
      "11\n",
      "12\n",
      "13\n",
      "14\n",
      "15\n",
      "16\n",
      "17\n",
      "18\n",
      "19\n",
      "20\n",
      "21\n",
      "22\n",
      "23\n",
      "24\n",
      "25\n",
      "26\n",
      "27\n",
      "28\n",
      "29\n",
      "30\n",
      "31\n"
     ]
    }
   ],
   "source": [
    "for i in range(0,32):\n",
    "    print(i)"
   ]
  }
 ],
 "metadata": {
  "kernelspec": {
   "display_name": "YoloV5",
   "language": "python",
   "name": "python3"
  },
  "language_info": {
   "codemirror_mode": {
    "name": "ipython",
    "version": 3
   },
   "file_extension": ".py",
   "mimetype": "text/x-python",
   "name": "python",
   "nbconvert_exporter": "python",
   "pygments_lexer": "ipython3",
   "version": "3.9.13"
  },
  "orig_nbformat": 4
 },
 "nbformat": 4,
 "nbformat_minor": 2
}
