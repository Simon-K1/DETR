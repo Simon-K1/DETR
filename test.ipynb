{
 "cells": [
  {
   "cell_type": "code",
   "execution_count": 88,
   "metadata": {},
   "outputs": [],
   "source": [
    "import torch\n",
    "# a=torch.tensor([[1,2,3],[2,3,4]])\n",
    "# print((a.shape))\n",
    "# amax=a.max(-1)\n",
    "# asum=a.sum(-1)\n",
    "# asum=asum.unsqueeze(-1)\n",
    "# a-asum\n",
    "\n",
    "x=torch.rand(16,6,197,768)\n",
    "# testMax=x.max(-1)\n",
    "# print(testMax.values.shape)\n",
    "# Row_Sum=(torch.pow(2,x-x.max(-1).values.unsqueeze(-1))).sum(-1)#先算一下每一行的指数累加和作为分母\n",
    "# print(Row_Sum.unsqueeze(-1).shape)\n",
    "# # print(Row_Sum.unsqueeze(-1).expand(16,6,197,768))\n",
    "# Row_Sum=Row_Sum.unsqueeze(-1).expand(16,6,197,768)\n",
    "# Row_Sum.shape[0:3]\n",
    "\n",
    "Row_Sum=(torch.pow(2,x-x.max(-1).values.unsqueeze(-1))).sum(-1)#先算一下每一行的指数累加和作为分母\n",
    "Row_Sum=Row_Sum.unsqueeze(-1)\n",
    "Row_Sum=Row_Sum.expand(Row_Sum.shape[0],Row_Sum.shape[1],Row_Sum.shape[2],x.shape[-1])\n",
    "x=torch.pow(2,x-x.max(-1).values.unsqueeze(-1))/Row_Sum"
   ]
  },
  {
   "cell_type": "code",
   "execution_count": 64,
   "metadata": {},
   "outputs": [
    {
     "name": "stdout",
     "output_type": "stream",
     "text": [
      "tensor([[[1., 1., 1., 1., 1.],\n",
      "         [2., 2., 2., 2., 2.],\n",
      "         [3., 3., 3., 3., 3.]]])\n"
     ]
    }
   ],
   "source": [
    "x = torch.Tensor([[[1], [2], [3]]])\n",
    "print(x.expand(1,3, 5))\n"
   ]
  }
 ],
 "metadata": {
  "kernelspec": {
   "display_name": "Transformer",
   "language": "python",
   "name": "python3"
  },
  "language_info": {
   "codemirror_mode": {
    "name": "ipython",
    "version": 3
   },
   "file_extension": ".py",
   "mimetype": "text/x-python",
   "name": "python",
   "nbconvert_exporter": "python",
   "pygments_lexer": "ipython3",
   "version": "3.9.13"
  },
  "orig_nbformat": 4,
  "vscode": {
   "interpreter": {
    "hash": "495274a28bdb076e4e5d468612a890f31d5e619c1dd6c8cb530d5f7b822d194c"
   }
  }
 },
 "nbformat": 4,
 "nbformat_minor": 2
}
