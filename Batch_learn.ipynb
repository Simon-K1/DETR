{
 "cells": [
  {
   "cell_type": "code",
   "execution_count": 10,
   "metadata": {},
   "outputs": [
    {
     "name": "stdout",
     "output_type": "stream",
     "text": [
      "tensor(0.5050)\n"
     ]
    },
    {
     "ename": "TypeError",
     "evalue": "mean() received an invalid combination of arguments - got (Tensor, int, int), but expected one of:\n * (Tensor input, *, torch.dtype dtype)\n      didn't match because some of the arguments have invalid types: (Tensor, !int!, !int!)\n * (Tensor input, tuple of ints dim, bool keepdim, *, torch.dtype dtype, Tensor out)\n * (Tensor input, tuple of names dim, bool keepdim, *, torch.dtype dtype, Tensor out)\n",
     "output_type": "error",
     "traceback": [
      "\u001b[1;31m---------------------------------------------------------------------------\u001b[0m",
      "\u001b[1;31mTypeError\u001b[0m                                 Traceback (most recent call last)",
      "Cell \u001b[1;32mIn [10], line 9\u001b[0m\n\u001b[0;32m      7\u001b[0m Total_Mean\u001b[39m=\u001b[39mtorch\u001b[39m.\u001b[39mmean(x)\u001b[39m#整体均值\u001b[39;00m\n\u001b[0;32m      8\u001b[0m \u001b[39mprint\u001b[39m(Total_Mean)\n\u001b[1;32m----> 9\u001b[0m Batch_Mean\u001b[39m=\u001b[39mtorch\u001b[39m.\u001b[39;49mmean(x,\u001b[39m0\u001b[39;49m,\u001b[39m1\u001b[39;49m)\n\u001b[0;32m     10\u001b[0m \u001b[39mprint\u001b[39m(Batch_Mean\u001b[39m.\u001b[39mshape)\n",
      "\u001b[1;31mTypeError\u001b[0m: mean() received an invalid combination of arguments - got (Tensor, int, int), but expected one of:\n * (Tensor input, *, torch.dtype dtype)\n      didn't match because some of the arguments have invalid types: (Tensor, !int!, !int!)\n * (Tensor input, tuple of ints dim, bool keepdim, *, torch.dtype dtype, Tensor out)\n * (Tensor input, tuple of names dim, bool keepdim, *, torch.dtype dtype, Tensor out)\n"
     ]
    }
   ],
   "source": [
    "import torch\n",
    "import torch.nn as nn\n",
    "n=4*4#字长\n",
    "c=32#embedding数\n",
    "b=8#batch数\n",
    "x=torch.rand(b,c,n)\n",
    "Total_Mean=torch.mean(x)#整体均值\n",
    "print(Total_Mean)\n",
    "Batch_Mean=torch.mean(x,0,1)\n",
    "print(Batch_Mean.shape)"
   ]
  }
 ],
 "metadata": {
  "kernelspec": {
   "display_name": "Python 3.9.13 ('Transformer')",
   "language": "python",
   "name": "python3"
  },
  "language_info": {
   "codemirror_mode": {
    "name": "ipython",
    "version": 3
   },
   "file_extension": ".py",
   "mimetype": "text/x-python",
   "name": "python",
   "nbconvert_exporter": "python",
   "pygments_lexer": "ipython3",
   "version": "3.9.13 (main, Oct 13 2022, 21:23:06) [MSC v.1916 64 bit (AMD64)]"
  },
  "orig_nbformat": 4,
  "vscode": {
   "interpreter": {
    "hash": "495274a28bdb076e4e5d468612a890f31d5e619c1dd6c8cb530d5f7b822d194c"
   }
  }
 },
 "nbformat": 4,
 "nbformat_minor": 2
}
